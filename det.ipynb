{
 "cells": [
  {
   "cell_type": "code",
   "execution_count": null,
   "metadata": {},
   "outputs": [],
   "source": [
    "import sympy as sp\n",
    "from symars import DType, GenScalar\n",
    "from symars.scalar_cached import GenScalarCached\n",
    "\n",
    "N = 4\n",
    "mat = sp.Matrix(sp.symbols(f\"a:{N * N}\", real=True)).reshape(N, N)\n",
    "det = mat.det_LU_decomposition()\n",
    "# det = mat.det()\n",
    "\n",
    "print(mat)"
   ]
  },
  {
   "cell_type": "code",
   "execution_count": null,
   "metadata": {},
   "outputs": [],
   "source": [
    "# gen = GenScalar(DType.F64)\n",
    "gen = GenScalarCached(DType.F64, min_occurrence=2)\n",
    "gcode = gen.generate(f\"det_{N}_{N}\", det)\n",
    "print(gcode)\n",
    "\n",
    "# hcode = gen.generate(\"hess_3\", expr=ddf)\n",
    "# print(hcode)"
   ]
  },
  {
   "cell_type": "code",
   "execution_count": 3,
   "metadata": {},
   "outputs": [
    {
     "data": {
      "text/latex": [
       "$\\displaystyle \\left[\\begin{matrix}a_{0} & a_{1} & a_{2}\\\\a_{3} & a_{4} & a_{5}\\\\a_{6} & a_{7} & a_{8}\\end{matrix}\\right]$"
      ],
      "text/plain": [
       "Matrix([\n",
       "[a0, a1, a2],\n",
       "[a3, a4, a5],\n",
       "[a6, a7, a8]])"
      ]
     },
     "execution_count": 3,
     "metadata": {},
     "output_type": "execute_result"
    }
   ],
   "source": [
    "import sympy as sp\n",
    "from symars import DType, GenScalar, GenNalgebra\n",
    "from symars.scalar_cached import GenScalarCached\n",
    "\n",
    "N = 3\n",
    "mvec = sp.Matrix(sp.symbols(f\"a:{N * N}\", real=True))\n",
    "mat = mvec.reshape(N, N)\n",
    "mat"
   ]
  },
  {
   "cell_type": "code",
   "execution_count": null,
   "metadata": {},
   "outputs": [],
   "source": [
    "import sympy as sp\n",
    "from symars import DType, GenScalar, GenNalgebra\n",
    "from symars.scalar_cached import GenScalarCached\n",
    "\n",
    "N = 3\n",
    "mvec = sp.Matrix(sp.symbols(f\"a:{N * N}\", real=True))\n",
    "mat = mvec.reshape(N, N)\n",
    "# det = mat.det_LU_decomposition()\n",
    "det = mat.det()\n",
    "\n",
    "# gen = GenScalar(DType.F64)\n",
    "# gen = GenScalarCached(DType.F64)\n",
    "# dcode = gen.generate(f\"det4\", det)\n",
    "# print(dcode)\n",
    "\n",
    "g = sp.diff(det, mvec)\n",
    "\n",
    "gen = GenScalar(DType.F64)\n",
    "gen = GenNalgebra(DType.F64)\n",
    "gcode = gen.generate(f\"grad_det{N}\", g)\n",
    "print(gcode)\n",
    "\n",
    "# h = sp.hessian(det, mvec)\n",
    "# gen = GenNalgebra(DType.F64)\n",
    "# hcode = gen.generate(f\"hess_det4\", h)\n",
    "# print(hcode)"
   ]
  },
  {
   "cell_type": "code",
   "execution_count": null,
   "metadata": {},
   "outputs": [],
   "source": [
    "res = \",\".join([f\"vals[{i}]\" for i in range(16)])\n",
    "print(res)"
   ]
  }
 ],
 "metadata": {
  "kernelspec": {
   "display_name": "playground",
   "language": "python",
   "name": "python3"
  },
  "language_info": {
   "codemirror_mode": {
    "name": "ipython",
    "version": 3
   },
   "file_extension": ".py",
   "mimetype": "text/x-python",
   "name": "python",
   "nbconvert_exporter": "python",
   "pygments_lexer": "ipython3",
   "version": "3.10.13"
  }
 },
 "nbformat": 4,
 "nbformat_minor": 2
}
